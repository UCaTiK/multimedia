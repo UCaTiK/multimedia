{
 "cells": [
  {
   "cell_type": "markdown",
   "id": "c24fba9b",
   "metadata": {},
   "source": [
    "# Лабораторная работа #2\n",
    "## По предмету: \"Алгоритмические основы мультимедийных технологий\"\n",
    "## Тема: \"Наложение фильтров на видео\"\n",
    "### Выполнили: Терентьев Егор Дмитриевич НФИмд-01-23 1132236902 и Юдин Герман Станиславович НФИмд-02-23 1132236901"
   ]
  },
  {
   "cell_type": "markdown",
   "id": "6a9b4127",
   "metadata": {},
   "source": [
    "### Задание:\n",
    "#### Применить алгоритмы обработки фотографий из 1ой лабораторной работы на видео"
   ]
  },
  {
   "cell_type": "markdown",
   "id": "48ec56c1",
   "metadata": {},
   "source": [
    "Импортируем нужные библиотеки"
   ]
  },
  {
   "cell_type": "code",
   "execution_count": 16,
   "id": "90310e1c",
   "metadata": {},
   "outputs": [],
   "source": [
    "from matplotlib.image import imread\n",
    "from PIL import Image\n",
    "import numpy as np\n",
    "import matplotlib.pyplot as plt\n",
    "import cv2"
   ]
  },
  {
   "cell_type": "markdown",
   "id": "650dda3f",
   "metadata": {},
   "source": [
    "### Алгоритмы обработки изображений из прошлой лабораторной работы"
   ]
  },
  {
   "cell_type": "markdown",
   "id": "d134e7e1",
   "metadata": {},
   "source": [
    "Здесь представлены алгоритмы из первой лабораторной работы: **Негатив**, **Яркость**, **Блюр**"
   ]
  },
  {
   "cell_type": "code",
   "execution_count": 17,
   "id": "c2eb8eef",
   "metadata": {},
   "outputs": [],
   "source": [
    "def negative(matrix):\n",
    "\tnew_matrix = []\n",
    "\tfor i in range(len(matrix)):\n",
    "\t\tlst = []\n",
    "\t\tfor j in range(len(matrix[i])):\n",
    "\t\t\tlst.append([255 - matrix[i][j][k] for k in range(3)])\n",
    "\t\tnew_matrix.append(lst)\n",
    "\treturn new_matrix\n",
    "\n",
    "\n",
    "def brightness(matrix, k):\n",
    "\tnew_matrix = []\n",
    "\taverage = 0\n",
    "\tfor i in range(len(matrix)):\n",
    "\t\tlst = []\n",
    "\t\tfor j in range(len(matrix[i])):\n",
    "\t\t\tif k > 0:\n",
    "\t\t\t\tlst.append((min(matrix[i][j][0] + k, 255), min(matrix[i][j][1] + k, 255), min(matrix[i][j][2] + k, 255)))\n",
    "\t\t\telse:\n",
    "\t\t\t\tlst.append((max(matrix[i][j][0] + k, 0), max(matrix[i][j][1] + k, 0), max(matrix[i][j][2] + k, 0)))\n",
    "\t\tnew_matrix.append(lst)\n",
    "\treturn new_matrix\n",
    "\n",
    "\n",
    "def blur(matrix, n=1, a=0.5):\n",
    "\tnew_matrix = []\n",
    "\tfor i in range(len(matrix)):\n",
    "\t\tlst = []\n",
    "\t\tfor j in range(len(matrix[i])):\n",
    "\t\t\tcount = -1\n",
    "\t\t\tsummary = [-int(matrix[i][j][k]) for k in range(3)]\n",
    "\t\t\tfor k in range(max(i - n, 0), min(i + n + 1, len(matrix))):\n",
    "\t\t\t\tfor l in range(max(j - n, 0), min(j + n + 1, len(matrix[0]))):\n",
    "\t\t\t\t\tcount += 1\n",
    "\t\t\t\t\tfor p in range(3):\n",
    "\t\t\t\t\t\tsummary[p] += int(matrix[k][l][p])\n",
    "\t\t\tfor p in range(3):\n",
    "\t\t\t\tsummary[p] = int(summary[p] / count * a)\n",
    "\t\t\t\tsummary[p] += int(matrix[i][j][p] * (1 - a))\n",
    "\t\t\t\tsummary[p] = min(summary[p], 255)\n",
    "\t\t\t\n",
    "\t\t\tlst.append(summary)\n",
    "\t\tnew_matrix.append(lst)\n",
    "\treturn new_matrix"
   ]
  },
  {
   "cell_type": "markdown",
   "id": "f0e9c259",
   "metadata": {},
   "source": [
    "### Функция для наложения эффектов на входящие видео"
   ]
  },
  {
   "cell_type": "markdown",
   "id": "a644b4ae",
   "metadata": {},
   "source": [
    "***Функция video_modify принимает путь к видеофайлу и выполняет несколько операций над каждым кадром видео. Она считывает видео, разбивает его на три части и применяет различные преобразования к каждой части: увеличение яркости, создание негатива и размытие. Затем измененные кадры записываются в новый видеофайл***"
   ]
  },
  {
   "cell_type": "code",
   "execution_count": 18,
   "id": "31daa08f",
   "metadata": {},
   "outputs": [],
   "source": [
    "def video_modify(video):\n",
    "\tcap = cv2.VideoCapture(video) #создаем объект для считывания видео\n",
    "\tframeCount = int(cap.get(cv2.CAP_PROP_FRAME_COUNT)) \n",
    "\tframeWidth = int(cap.get(cv2.CAP_PROP_FRAME_WIDTH))\n",
    "\tframeHeight = int(cap.get(cv2.CAP_PROP_FRAME_HEIGHT))\n",
    "\tfps = cap.get(cv2.CAP_PROP_FPS)\n",
    "\t\n",
    "\tfourcc = cv2.VideoWriter_fourcc(*'XVID') #кодек для записи видео\n",
    "\tout = cv2.VideoWriter('output.mp4', fourcc, fps, (frameWidth,frameHeight)) #создаем объект для записи видео\n",
    "\t\n",
    "\tbuf = np.empty((frameCount, frameHeight, frameWidth, 3), np.dtype('uint8')) #создаем буфер для кадров\n",
    "\tnew_buf = np.empty((frameCount, frameHeight, frameWidth, 3), np.dtype('uint8')) #создаем буфер для измененных кадров\n",
    "\t\n",
    "\tfc = 0 #счетчик кадров\n",
    "\tret = True #флаг, показывающий, был ли считан кадр\n",
    "\t\n",
    "\twhile (fc < frameCount  and ret): #считываем кадры\n",
    "\t\tret, buf[fc] = cap.read() \n",
    "\t\tfc += 1\n",
    "\t\n",
    "\tblur_counter = 0\n",
    "\tthird_part = len(new_buf) / 3 #разбиваем видео на три части\n",
    "\tfor i in range(len(buf)):\n",
    "\t\tprint(f\"Frame {i + 1}/{len(new_buf)}\")\n",
    "\t\tif i < third_part: #первая часть - увеличиваем яркость\n",
    "\t\t\tnew_buf[i] = brightness(buf[i], 255 - (i * 5))\n",
    "\t\telif i < third_part * 2: #вторая часть - негатив\n",
    "\t\t\tnew_buf[i] = negative(buf[i])\n",
    "\t\telse: #третья часть - размытие\n",
    "\t\t\tnew_buf[i] = blur(buf[i], 3, blur_counter / third_part)\n",
    "\t\t\tblur_counter += 1\n",
    "\t\n",
    "\tfor frame in new_buf: #записываем измененные кадры\n",
    "\t\tout.write(frame)\n",
    "\t\n",
    "\tcap.release()\n",
    "\tout.release()\n",
    "\t\n",
    "\tcv2.destroyAllWindows()"
   ]
  },
  {
   "cell_type": "markdown",
   "id": "cb665a9c",
   "metadata": {},
   "source": [
    "### Функция для отображения получившихся результатов"
   ]
  },
  {
   "cell_type": "code",
   "execution_count": 19,
   "id": "71e79bac",
   "metadata": {},
   "outputs": [],
   "source": [
    "def compare_videos(original_video, resulting_video):\n",
    "    # Открываем оригинальное видео\n",
    "    original_cap = cv2.VideoCapture(original_video)\n",
    "    original_fps = original_cap.get(cv2.CAP_PROP_FPS)\n",
    "\n",
    "    # Открываем видео с результатом\n",
    "    resulting_cap = cv2.VideoCapture(resulting_video)\n",
    "    resulting_fps = resulting_cap.get(cv2.CAP_PROP_FPS)\n",
    "\n",
    "    # Создаем окно для отображения видео\n",
    "    cv2.namedWindow(\"Comparison\", cv2.WINDOW_NORMAL)\n",
    "\n",
    "    while True:\n",
    "        # Считываем кадры из видео\n",
    "        ret1, frame1 = original_cap.read()\n",
    "        ret2, frame2 = resulting_cap.read()\n",
    "\n",
    "        # Завершаем цикл, если кадры закончились\n",
    "        if not ret1 or not ret2:\n",
    "            break\n",
    "\n",
    "        # Считаем разницу между кадрами\n",
    "        #diff = cv2.absdiff(frame1, frame2)\n",
    "\n",
    "        # отображение видео\n",
    "        cv2.imshow(\"Comparison\", cv2.hconcat([frame1, frame2]))\n",
    "\n",
    "        # закрытие окна при нажатии клавиши q\n",
    "        if cv2.waitKey(int(1000 / max(original_fps, resulting_fps))) & 0xFF == ord('q'):\n",
    "            break\n",
    "\n",
    "    # Release the video captures and destroy the window\n",
    "    original_cap.release()\n",
    "    resulting_cap.release()\n",
    "    cv2.destroyAllWindows()\n"
   ]
  },
  {
   "cell_type": "code",
   "execution_count": 20,
   "id": "7243f715",
   "metadata": {},
   "outputs": [],
   "source": [
    "#video_modify(\"video(10sec).mp4\") #запуск функции для изменения видео\n",
    "compare_videos(\"video(10sec).mp4\", \"output.mp4\") #сравнение видео "
   ]
  },
  {
   "cell_type": "markdown",
   "id": "8109bfb7",
   "metadata": {},
   "source": [
    "### Алгоритм перехода между видео"
   ]
  },
  {
   "cell_type": "markdown",
   "id": "530f176d",
   "metadata": {},
   "source": [
    "#### Описание и реализация алгоритма слайд\n",
    "Для реализация нам требуется transition_frames - это количество кадров, которые будут использоваться для перехода. Оно равно количеству кадров в более коротком из двух видео.\n",
    "В цикле для каждого кадра перехода (i от 0 до transition_frames):\n",
    "Создается пустой кадр transition_frame с теми же размерами и типом данных, что и исходные кадры.\n",
    "Левая часть transition_frame заполняется соответствующими пикселями из первого видео (buf1). Ширина этой части увеличивается с каждым новым кадром перехода.\n",
    "Правая часть transition_frame заполняется соответствующими пикселями из второго видео (buf2). Ширина этой части уменьшается с каждым новым кадром перехода.\n",
    "Затем каждый кадр записывается последовательно"
   ]
  },
  {
   "cell_type": "code",
   "execution_count": 21,
   "id": "a9392b35",
   "metadata": {},
   "outputs": [],
   "source": [
    "def transition(video1, video2):\n",
    "\tcap1 = cv2.VideoCapture(video1)\n",
    "\tcap2 = cv2.VideoCapture(video2)\n",
    "\tframeCount1 = int(cap1.get(cv2.CAP_PROP_FRAME_COUNT))\n",
    "\tframeCount2 = int(cap2.get(cv2.CAP_PROP_FRAME_COUNT))\n",
    "\tframeWidth = int(cap1.get(cv2.CAP_PROP_FRAME_WIDTH))\n",
    "\tframeHeight = int(cap1.get(cv2.CAP_PROP_FRAME_HEIGHT))\n",
    "\tfps = cap1.get(cv2.CAP_PROP_FPS)\n",
    "\t\n",
    "\tfourcc = cv2.VideoWriter_fourcc(*'XVID')\n",
    "\tout = cv2.VideoWriter('transition_output.mp4', fourcc, fps, (frameWidth, frameHeight))\n",
    "\t\n",
    "\tbuf1 = np.empty((frameCount1, frameHeight, frameWidth, 3), np.dtype('uint8'))\n",
    "\tbuf2 = np.empty((frameCount2, frameHeight, frameWidth, 3), np.dtype('uint8'))\n",
    "\t\n",
    "\tfc1 = 0\n",
    "\tret1 = True\n",
    "\twhile (fc1 < frameCount1 and ret1):\n",
    "\t\tret1, buf1[fc1] = cap1.read()\n",
    "\t\tfc1 += 1\n",
    "\n",
    "\tfc2 = 0\n",
    "\tret2 = True\n",
    "\twhile (fc2 < frameCount2 and ret2):\n",
    "\t\tret2, buf2[fc2] = cap2.read()\n",
    "\t\tfc2 += 1\n",
    "\n",
    "\ttransition_frames = min(frameCount1, frameCount2)\n",
    "\tfor i in range(transition_frames):\n",
    "\t\tprint(f\"Frame {i + 1}/{transition_frames}\")\n",
    "\t\ttransition_frame = np.zeros((frameHeight, frameWidth, 3), np.uint8)\n",
    "\t\ttransition_frame[:, :int(frameWidth * (i / transition_frames))] = buf1[i][:, :int(frameWidth * (i / transition_frames))]\n",
    "\t\ttransition_frame[:, int(frameWidth * (i / transition_frames)):] = buf2[i][:, int(frameWidth * (i / transition_frames)):]\n",
    "\n",
    "\t\tout.write(transition_frame)\n",
    "\n",
    "\tcap1.release()\n",
    "\tcap2.release()\n",
    "\tout.release()\n",
    "\n",
    "\tcv2.destroyAllWindows()"
   ]
  },
  {
   "cell_type": "code",
   "execution_count": 22,
   "id": "c96699f8",
   "metadata": {},
   "outputs": [],
   "source": [
    "def display_video(path):\n",
    "    cap = cv2.VideoCapture(path)  # Открываем видеофайл\n",
    "    while cap.isOpened():\n",
    "        ret, frame = cap.read()  # Считываем кадр из видео\n",
    "        if not ret:\n",
    "            break\n",
    "        cv2.imshow('Video', frame)  # Отображаем кадр\n",
    "        if cv2.waitKey(1) & 0xFF == ord('q'):  # Ждем нажатия клавиши \"q\"\n",
    "            break\n",
    "    cap.release()  # Закрываем видеофайл\n",
    "    cv2.destroyAllWindows()  # Закрываем окно отображения видео\n",
    "\n",
    "#transition(\"video(10sec).mp4\", \"video2.mp4\")\n",
    "display_video(\"transition_output.mp4\")"
   ]
  },
  {
   "cell_type": "markdown",
   "id": "faa401da",
   "metadata": {},
   "source": [
    "### Заключение\n",
    "После выполнения данной лабораторной работы мы научились реализовывать и применять различные фильтры на видео"
   ]
  }
 ],
 "metadata": {
  "kernelspec": {
   "display_name": "Python 3 (ipykernel)",
   "language": "python",
   "name": "python3"
  },
  "language_info": {
   "codemirror_mode": {
    "name": "ipython",
    "version": 3
   },
   "file_extension": ".py",
   "mimetype": "text/x-python",
   "name": "python",
   "nbconvert_exporter": "python",
   "pygments_lexer": "ipython3",
   "version": "3.9.13"
  }
 },
 "nbformat": 4,
 "nbformat_minor": 5
}
